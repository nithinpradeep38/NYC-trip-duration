{
 "cells": [
  {
   "cell_type": "code",
   "execution_count": 1,
   "id": "742a74a7",
   "metadata": {},
   "outputs": [],
   "source": [
    "import pandas as pd\n",
    "import numpy as np\n",
    "import matplotlib.pyplot as plt\n",
    "import seaborn as sns\n",
    "%matplotlib inline\n",
    "\n",
    "import warnings\n",
    "warnings.filterwarnings(\"ignore\")"
   ]
  },
  {
   "cell_type": "code",
   "execution_count": 2,
   "id": "de98be9d",
   "metadata": {},
   "outputs": [
    {
     "data": {
      "text/html": [
       "<div>\n",
       "<style scoped>\n",
       "    .dataframe tbody tr th:only-of-type {\n",
       "        vertical-align: middle;\n",
       "    }\n",
       "\n",
       "    .dataframe tbody tr th {\n",
       "        vertical-align: top;\n",
       "    }\n",
       "\n",
       "    .dataframe thead th {\n",
       "        text-align: right;\n",
       "    }\n",
       "</style>\n",
       "<table border=\"1\" class=\"dataframe\">\n",
       "  <thead>\n",
       "    <tr style=\"text-align: right;\">\n",
       "      <th></th>\n",
       "      <th>id</th>\n",
       "      <th>vendor_id</th>\n",
       "      <th>pickup_datetime</th>\n",
       "      <th>dropoff_datetime</th>\n",
       "      <th>passenger_count</th>\n",
       "      <th>pickup_longitude</th>\n",
       "      <th>pickup_latitude</th>\n",
       "      <th>dropoff_longitude</th>\n",
       "      <th>dropoff_latitude</th>\n",
       "      <th>store_and_fwd_flag</th>\n",
       "      <th>trip_duration</th>\n",
       "    </tr>\n",
       "  </thead>\n",
       "  <tbody>\n",
       "    <tr>\n",
       "      <th>0</th>\n",
       "      <td>id1080784</td>\n",
       "      <td>2</td>\n",
       "      <td>2016-02-29 16:40:21</td>\n",
       "      <td>2016-02-29 16:47:01</td>\n",
       "      <td>1</td>\n",
       "      <td>-73.953918</td>\n",
       "      <td>40.778873</td>\n",
       "      <td>-73.963875</td>\n",
       "      <td>40.771164</td>\n",
       "      <td>N</td>\n",
       "      <td>400</td>\n",
       "    </tr>\n",
       "    <tr>\n",
       "      <th>1</th>\n",
       "      <td>id0889885</td>\n",
       "      <td>1</td>\n",
       "      <td>2016-03-11 23:35:37</td>\n",
       "      <td>2016-03-11 23:53:57</td>\n",
       "      <td>2</td>\n",
       "      <td>-73.988312</td>\n",
       "      <td>40.731743</td>\n",
       "      <td>-73.994751</td>\n",
       "      <td>40.694931</td>\n",
       "      <td>N</td>\n",
       "      <td>1100</td>\n",
       "    </tr>\n",
       "    <tr>\n",
       "      <th>2</th>\n",
       "      <td>id0857912</td>\n",
       "      <td>2</td>\n",
       "      <td>2016-02-21 17:59:33</td>\n",
       "      <td>2016-02-21 18:26:48</td>\n",
       "      <td>2</td>\n",
       "      <td>-73.997314</td>\n",
       "      <td>40.721458</td>\n",
       "      <td>-73.948029</td>\n",
       "      <td>40.774918</td>\n",
       "      <td>N</td>\n",
       "      <td>1635</td>\n",
       "    </tr>\n",
       "    <tr>\n",
       "      <th>3</th>\n",
       "      <td>id3744273</td>\n",
       "      <td>2</td>\n",
       "      <td>2016-01-05 09:44:31</td>\n",
       "      <td>2016-01-05 10:03:32</td>\n",
       "      <td>6</td>\n",
       "      <td>-73.961670</td>\n",
       "      <td>40.759720</td>\n",
       "      <td>-73.956779</td>\n",
       "      <td>40.780628</td>\n",
       "      <td>N</td>\n",
       "      <td>1141</td>\n",
       "    </tr>\n",
       "    <tr>\n",
       "      <th>4</th>\n",
       "      <td>id0232939</td>\n",
       "      <td>1</td>\n",
       "      <td>2016-02-17 06:42:23</td>\n",
       "      <td>2016-02-17 06:56:31</td>\n",
       "      <td>1</td>\n",
       "      <td>-74.017120</td>\n",
       "      <td>40.708469</td>\n",
       "      <td>-73.988182</td>\n",
       "      <td>40.740631</td>\n",
       "      <td>N</td>\n",
       "      <td>848</td>\n",
       "    </tr>\n",
       "  </tbody>\n",
       "</table>\n",
       "</div>"
      ],
      "text/plain": [
       "          id  vendor_id      pickup_datetime     dropoff_datetime  \\\n",
       "0  id1080784          2  2016-02-29 16:40:21  2016-02-29 16:47:01   \n",
       "1  id0889885          1  2016-03-11 23:35:37  2016-03-11 23:53:57   \n",
       "2  id0857912          2  2016-02-21 17:59:33  2016-02-21 18:26:48   \n",
       "3  id3744273          2  2016-01-05 09:44:31  2016-01-05 10:03:32   \n",
       "4  id0232939          1  2016-02-17 06:42:23  2016-02-17 06:56:31   \n",
       "\n",
       "   passenger_count  pickup_longitude  pickup_latitude  dropoff_longitude  \\\n",
       "0                1        -73.953918        40.778873         -73.963875   \n",
       "1                2        -73.988312        40.731743         -73.994751   \n",
       "2                2        -73.997314        40.721458         -73.948029   \n",
       "3                6        -73.961670        40.759720         -73.956779   \n",
       "4                1        -74.017120        40.708469         -73.988182   \n",
       "\n",
       "   dropoff_latitude store_and_fwd_flag  trip_duration  \n",
       "0         40.771164                  N            400  \n",
       "1         40.694931                  N           1100  \n",
       "2         40.774918                  N           1635  \n",
       "3         40.780628                  N           1141  \n",
       "4         40.740631                  N            848  "
      ]
     },
     "execution_count": 2,
     "metadata": {},
     "output_type": "execute_result"
    }
   ],
   "source": [
    "data= pd.read_csv('nyc_taxi_trip_duration.csv')\n",
    "data.head()"
   ]
  },
  {
   "cell_type": "markdown",
   "id": "5cc27938",
   "metadata": {},
   "source": [
    "### Data Variables\n",
    "\n",
    "- __id__ - a unique identifier for each trip\n",
    "- __vendor_id__ - a code indicating the provider associated with the trip record\n",
    "- __pickup_datetime__ - date and time when the meter was engaged\n",
    "- __dropoff_datetime__ - date and time when the meter was disengaged\n",
    "- __passenger_count__ - the number of passengers in the vehicle (driver entered value)\n",
    "- __pickup_longitude__ - the longitude where the meter was engaged\n",
    "- __pickup_latitude__ - the latitude where the meter was engaged\n",
    "- __dropoff_longitude__ - the longitude where the meter was disengaged\n",
    "- __dropoff_latitude__ - the latitude where the meter was disengaged\n",
    "- __store_and_fwd_flag__ - This flag indicates whether the trip record was held in vehicle memory before sending to the - vendor because the vehicle did not have a connection to the server (Y=store and forward; N=not a store and forward trip)\n",
    "- __trip_duration__ - (target) duration of the trip in seconds\n",
    "\n",
    "### Checking shape of the dataset"
   ]
  },
  {
   "cell_type": "code",
   "execution_count": 3,
   "id": "9be15b4f",
   "metadata": {},
   "outputs": [
    {
     "data": {
      "text/plain": [
       "(729322, 11)"
      ]
     },
     "execution_count": 3,
     "metadata": {},
     "output_type": "execute_result"
    }
   ],
   "source": [
    "data.shape"
   ]
  },
  {
   "cell_type": "markdown",
   "id": "a73a4b7c",
   "metadata": {},
   "source": [
    "### Missing values"
   ]
  },
  {
   "cell_type": "code",
   "execution_count": 4,
   "id": "512d4dd8",
   "metadata": {},
   "outputs": [
    {
     "data": {
      "text/plain": [
       "id                    0\n",
       "vendor_id             0\n",
       "pickup_datetime       0\n",
       "dropoff_datetime      0\n",
       "passenger_count       0\n",
       "pickup_longitude      0\n",
       "pickup_latitude       0\n",
       "dropoff_longitude     0\n",
       "dropoff_latitude      0\n",
       "store_and_fwd_flag    0\n",
       "trip_duration         0\n",
       "dtype: int64"
      ]
     },
     "execution_count": 4,
     "metadata": {},
     "output_type": "execute_result"
    }
   ],
   "source": [
    "data.isna().sum()"
   ]
  },
  {
   "cell_type": "markdown",
   "id": "194098c0",
   "metadata": {},
   "source": [
    "There are no missing values in the given dataset.\n",
    "\n",
    "We can do the same column transformation and feature engineering steps we did in EDA.\n",
    "\n",
    "### Data type conversion and feature engineering\n",
    "\n",
    "We will do the following steps\n",
    "\n",
    "- Convert data types as done in EDA\n",
    "- Split the time stamp to create new features.\n",
    "- Create distance and speed variable. The latter is simply being used for cleaning of data and will be removed later\n",
    "- Perform the same steps of outlier removal as in EDA\n",
    "- Create clusters of pick-up and drop-off\n",
    "- Remove unwanted variables."
   ]
  },
  {
   "cell_type": "code",
   "execution_count": 5,
   "id": "a1fe571c",
   "metadata": {},
   "outputs": [
    {
     "data": {
      "text/plain": [
       "id                     object\n",
       "vendor_id               int64\n",
       "pickup_datetime        object\n",
       "dropoff_datetime       object\n",
       "passenger_count         int64\n",
       "pickup_longitude      float64\n",
       "pickup_latitude       float64\n",
       "dropoff_longitude     float64\n",
       "dropoff_latitude      float64\n",
       "store_and_fwd_flag     object\n",
       "trip_duration           int64\n",
       "dtype: object"
      ]
     },
     "execution_count": 5,
     "metadata": {},
     "output_type": "execute_result"
    }
   ],
   "source": [
    "data.dtypes"
   ]
  },
  {
   "cell_type": "markdown",
   "id": "ace79219",
   "metadata": {},
   "source": [
    "- Customer id is a randomly assigned unique identifier for a trip. So it can remain as an object and we will remove it.\n",
    "- Vendor_id represents an id of the provider. This should be a category.\n",
    "- Store_and_fwd_flag is object data type. But since we have only two possible values, it can be treated as a category.\n",
    "- We will also only extract month, week and hour of pickup."
   ]
  },
  {
   "cell_type": "code",
   "execution_count": 6,
   "id": "fb4e18dc",
   "metadata": {},
   "outputs": [],
   "source": [
    "data['vendor_id']= data['vendor_id'].astype('category')\n",
    "data['store_and_fwd_flag']= data['store_and_fwd_flag'].astype('category')\n",
    "\n",
    "pickup_date= pd.DatetimeIndex(data['pickup_datetime'])\n",
    "\n",
    "#Month of year of pick up\n",
    "data['month_pickup']= pickup_date.month\n",
    "\n",
    "#Week day of pick up\n",
    "data['weekday_pickup']= pickup_date.weekday\n",
    "\n",
    "#Hour of pick up\n",
    "data['hour_pickup']= pickup_date.hour"
   ]
  },
  {
   "cell_type": "markdown",
   "id": "bbd0106a",
   "metadata": {},
   "source": [
    "#### Distance estimation using geopy"
   ]
  },
  {
   "cell_type": "code",
   "execution_count": 7,
   "id": "f2b4f383",
   "metadata": {},
   "outputs": [],
   "source": [
    "import geopy.distance\n",
    "def distance_miles(row):\n",
    "    coords_1 = (row['pickup_latitude'], row['pickup_longitude'])\n",
    "    coords_2 = (row['dropoff_latitude'], row['dropoff_longitude'])\n",
    "    return geopy.distance.geodesic(coords_1, coords_2).miles\n",
    "\n",
    "data['pickup_dropoff_distance'] = data.apply(distance_miles, axis=1)"
   ]
  },
  {
   "cell_type": "markdown",
   "id": "03cf495a",
   "metadata": {},
   "source": [
    "#### Speed estimation\n",
    "\n",
    "We may not use this feature in prediction. However, it can be a good variable for removing bad data."
   ]
  },
  {
   "cell_type": "code",
   "execution_count": 8,
   "id": "c56cf14f",
   "metadata": {},
   "outputs": [],
   "source": [
    "def avg_speed(row):\n",
    "    time_in_hours = row['trip_duration']/3600\n",
    "    avg_speed= row['pickup_dropoff_distance']/time_in_hours\n",
    "    return avg_speed\n",
    "\n",
    "data['avg_speed'] = data.apply(avg_speed, axis=1)"
   ]
  },
  {
   "cell_type": "code",
   "execution_count": 9,
   "id": "b9ed7893",
   "metadata": {},
   "outputs": [
    {
     "data": {
      "text/plain": [
       "id                           object\n",
       "vendor_id                  category\n",
       "pickup_datetime              object\n",
       "dropoff_datetime             object\n",
       "passenger_count               int64\n",
       "pickup_longitude            float64\n",
       "pickup_latitude             float64\n",
       "dropoff_longitude           float64\n",
       "dropoff_latitude            float64\n",
       "store_and_fwd_flag         category\n",
       "trip_duration                 int64\n",
       "month_pickup                  int64\n",
       "weekday_pickup                int64\n",
       "hour_pickup                   int64\n",
       "pickup_dropoff_distance     float64\n",
       "avg_speed                   float64\n",
       "dtype: object"
      ]
     },
     "execution_count": 9,
     "metadata": {},
     "output_type": "execute_result"
    }
   ],
   "source": [
    "data.dtypes"
   ]
  },
  {
   "cell_type": "code",
   "execution_count": 10,
   "id": "bc4a48da",
   "metadata": {},
   "outputs": [
    {
     "data": {
      "text/plain": [
       "(658389, 729322)"
      ]
     },
     "execution_count": 10,
     "metadata": {},
     "output_type": "execute_result"
    }
   ],
   "source": [
    "clean_data= data.copy()\n",
    "#speed>120\n",
    "clean_data= clean_data.drop(clean_data[data['avg_speed']>120].index)\n",
    "#pickup and drop-off same\n",
    "clean_data= clean_data.drop(clean_data[(clean_data['pickup_latitude']==clean_data['dropoff_latitude'])& (clean_data['pickup_longitude']==clean_data['dropoff_longitude'])].index)\n",
    "#distance less than 10 miles and trip duration >30000 seconds\n",
    "clean_data= clean_data.drop(clean_data[(clean_data['pickup_dropoff_distance']<10)& (clean_data['trip_duration']>20000)].index)\n",
    "#trips with trip duration<10 seconds\n",
    "clean_data= clean_data.drop(clean_data[clean_data['trip_duration']<10].index)\n",
    "\n",
    "# Latitudes and longitudes 3 standard deviations away from their means\n",
    "\n",
    "clean_data = clean_data[(clean_data['pickup_latitude'] < (clean_data['pickup_latitude'].mean() + 3*clean_data['pickup_latitude'].std()))\n",
    "                   & (clean_data['pickup_latitude'] > (clean_data['pickup_latitude'].mean() - 3*clean_data['pickup_latitude'].std()))]\n",
    "clean_data = clean_data[(clean_data['pickup_longitude'] < (clean_data['pickup_longitude'].mean() + 3*clean_data['pickup_longitude'].std()))\n",
    "                   & (clean_data['pickup_longitude'] > (clean_data['pickup_longitude'].mean() - 3*clean_data['pickup_longitude'].std()))]\n",
    "clean_data = clean_data[(clean_data['dropoff_latitude'] < (clean_data['dropoff_latitude'].mean() + 3*clean_data['dropoff_latitude'].std()))\n",
    "                   & (clean_data['dropoff_latitude'] > (clean_data['dropoff_latitude'].mean() - 3*clean_data['dropoff_latitude'].std()))]\n",
    "clean_data = clean_data[(clean_data['dropoff_longitude'] < (clean_data['dropoff_longitude'].mean() + 3*clean_data['dropoff_longitude'].std()))\n",
    "                   & (clean_data['dropoff_longitude'] > (clean_data['dropoff_longitude'].mean() - 3*clean_data['dropoff_longitude'].std()))]\n",
    "\n",
    "len(clean_data), len(data)"
   ]
  },
  {
   "cell_type": "code",
   "execution_count": 11,
   "id": "05cfc4cf",
   "metadata": {},
   "outputs": [],
   "source": [
    "from sklearn.cluster import KMeans\n",
    "clean_data_pickup= clean_data[['pickup_longitude', 'pickup_latitude']]\n",
    "clean_data_dropoff= clean_data[['dropoff_longitude', 'dropoff_latitude']]\n",
    "\n",
    "pickup_cluster= KMeans(n_clusters=4, init='k-means++',random_state=42)\n",
    "clean_data['pickup_cluster']= pickup_cluster.fit_predict(clean_data_pickup)\n",
    "\n",
    "dropoff_cluster= KMeans(n_clusters=4, init='k-means++',random_state=42)\n",
    "clean_data['dropoff_cluster']= dropoff_cluster.fit_predict(clean_data_dropoff)"
   ]
  },
  {
   "cell_type": "code",
   "execution_count": 12,
   "id": "1c4aaabc",
   "metadata": {},
   "outputs": [],
   "source": [
    "clean_data= clean_data.drop(columns=['avg_speed', 'id', 'pickup_datetime', 'dropoff_datetime'])"
   ]
  },
  {
   "cell_type": "code",
   "execution_count": 13,
   "id": "06902538",
   "metadata": {},
   "outputs": [
    {
     "data": {
      "text/plain": [
       "vendor_id                  category\n",
       "passenger_count               int64\n",
       "pickup_longitude            float64\n",
       "pickup_latitude             float64\n",
       "dropoff_longitude           float64\n",
       "dropoff_latitude            float64\n",
       "store_and_fwd_flag         category\n",
       "trip_duration                 int64\n",
       "month_pickup                  int64\n",
       "weekday_pickup                int64\n",
       "hour_pickup                   int64\n",
       "pickup_dropoff_distance     float64\n",
       "pickup_cluster                int32\n",
       "dropoff_cluster               int32\n",
       "dtype: object"
      ]
     },
     "execution_count": 13,
     "metadata": {},
     "output_type": "execute_result"
    }
   ],
   "source": [
    "clean_data.dtypes"
   ]
  },
  {
   "cell_type": "markdown",
   "id": "b44e12b0",
   "metadata": {},
   "source": [
    "## Data Pre-processing\n",
    "\n",
    "Here we will do steps like feature scaling and one-hot encoding of categorical variables.\n",
    "\n",
    "Before we dive into pre-processing there are some considerations and thoughts.\n",
    "\n",
    "We have got variables like __month_pickup__, __weekday_pickup__, __hour_pickup__ which are time variables. If we want to perform a linear regression, there are some restrictions in how we encode these variables. If we retain a numeric encoding (which is how they are currently encoded), the model will work poorly if the relationship between these time variables and the target variable (trip duration) is __not monotonic__.\n",
    "\n",
    "But a tree based algorithm will ignore the non-monotonic relationship between these variables and the target and similar values will be grouped together. \n",
    "\n",
    "Let us look at the relationship once again on the clean data"
   ]
  },
  {
   "cell_type": "code",
   "execution_count": 14,
   "id": "14113fb0",
   "metadata": {},
   "outputs": [
    {
     "data": {
      "image/png": "[encoded data removed]",
      "text/plain": [
       "<Figure size 2400x500 with 3 Axes>"
      ]
     },
     "metadata": {},
     "output_type": "display_data"
    }
   ],
   "source": [
    "def medianplot(feature_list, figsize= (10,5)):\n",
    "    \n",
    "    size= len(feature_list)\n",
    "    plt.figure(figsize = (8*size,5), dpi = 100)\n",
    "    for j,i in enumerate(feature_list):\n",
    "        x= clean_data.groupby(i)['trip_duration'].median().index\n",
    "        y= clean_data.groupby(i)['trip_duration'].median().values\n",
    "        plt.subplot(1,size,j+1)\n",
    "\n",
    "        ax=sns.barplot(x=x, y=y)\n",
    "        \n",
    "        plt.xlabel('{}'.format(i), fontsize = 20)\n",
    "        plt.ylabel('Median trip duration')\n",
    "        for i in [0,1]:\n",
    "            for p in ax.patches:\n",
    "                ax.annotate('{:1.0f}'.format(p.get_height()), (p.get_x()+0.3, p.get_height()),\n",
    "                            ha='center', va='bottom',\n",
    "                            color= 'black')\n",
    "    plt.tight_layout()\n",
    "    plt.show()\n",
    "    \n",
    "medianplot([\"month_pickup\",'hour_pickup','weekday_pickup'])"
   ]
  },
  {
   "cell_type": "markdown",
   "id": "def4f958",
   "metadata": {},
   "source": [
    "From our EDA and as shown above, there are varying trends across months, weekdays and hours. But they come in cycles. \n",
    "\n",
    "Trip durations were higher as we headed into weekends, was lowest on sundays and then picked up again. In months, we saw monotonic relationship between month and median trip duration. In hours, it was high from 9-6 PM and tapered off till morning. \n",
    "\n",
    "So even if we maintain the existing numerical encoding, a tree based algorithm can work relatively well."
   ]
  },
  {
   "cell_type": "code",
   "execution_count": 15,
   "id": "d18594fc",
   "metadata": {},
   "outputs": [
    {
     "data": {
      "text/plain": [
       "Index(['passenger_count', 'pickup_longitude', 'pickup_latitude',\n",
       "       'dropoff_longitude', 'dropoff_latitude', 'trip_duration',\n",
       "       'month_pickup', 'weekday_pickup', 'hour_pickup',\n",
       "       'pickup_dropoff_distance', 'pickup_cluster', 'dropoff_cluster',\n",
       "       'vendor_id_1', 'vendor_id_2', 'store_and_fwd_flag_N',\n",
       "       'store_and_fwd_flag_Y'],\n",
       "      dtype='object')"
      ]
     },
     "execution_count": 15,
     "metadata": {},
     "output_type": "execute_result"
    }
   ],
   "source": [
    "clean_data= pd.get_dummies(clean_data,columns=['vendor_id','store_and_fwd_flag'])\n",
    "clean_data.columns"
   ]
  },
  {
   "cell_type": "markdown",
   "id": "2a06d5f8",
   "metadata": {},
   "source": [
    "I am unsure if we still need the coordinates since we already have pickup and drop-off clusters. We can try the model with them. If the features happen to have importance, we will retain them. If not, we can drop them and retrain and models.\n",
    "\n",
    "Again, a tree based model needs no scaling of any kind as they are insensitive to variance in the data and make decisions based on thresholds. This is generally required by algorithms that work on gradient descent like linear regression, logistic regression, neural networks etc., or the ones that employ some sort of distance, like SVM or KNN that works on euclidean distance.\n",
    "\n"
   ]
  },
  {
   "cell_type": "markdown",
   "id": "eb618121",
   "metadata": {},
   "source": [
    "### Train- Test split "
   ]
  },
  {
   "cell_type": "code",
   "execution_count": 16,
   "id": "8f8fa0f2",
   "metadata": {},
   "outputs": [],
   "source": [
    "y= clean_data.trip_duration\n",
    "x= clean_data.drop(columns=['trip_duration'], axis=1)\n",
    "\n",
    "\n",
    "\n",
    "from sklearn.model_selection import train_test_split\n",
    "\n",
    "xtrain, xtest, ytrain, ytest = train_test_split(x,y,test_size=0.3, random_state=42)"
   ]
  },
  {
   "cell_type": "markdown",
   "id": "f48ed36e",
   "metadata": {},
   "source": [
    "### Model Building and Evaluation\n",
    "\n",
    "Since this is a regression problem, we will use __RMSE__ as the evaluation metric.\n",
    "\n",
    "We will try the following models.\n",
    "\n",
    "1. RandomForest\n",
    "2. xgBoost\n",
    "\n",
    "For evaluation, we will use a nested cross-validation approach. The __xtest__ and __ytest__ we created above will be kept separately and we will use it only in the end.\n",
    "\n",
    "- **Step 1**: The __xtrain__ and __ytrain__ can be further split into __xtrain_inner__ and __ytrain__inner__ which will be the train set where we tune the hyper-parameters \n",
    "- **Step 2**: __xval_inner__ and __yval_inner__ will be used to evaluate the best model from each selected models.\n",
    "- **Step 3**: The best seleted model will be trained on the entire train set __xtrain__ and __ytrain__\n",
    "- **Step 4**: The model trained on step 3 will be tested on __xtest__ __ytest__\n",
    "\n"
   ]
  },
  {
   "cell_type": "code",
   "execution_count": 17,
   "id": "0b7f4f8e",
   "metadata": {},
   "outputs": [
    {
     "data": {
      "text/plain": [
       "((345654, 15), (115218, 15), (345654,), (115218,))"
      ]
     },
     "execution_count": 17,
     "metadata": {},
     "output_type": "execute_result"
    }
   ],
   "source": [
    "from sklearn.metrics import mean_squared_error\n",
    "from sklearn.model_selection import cross_validate, GridSearchCV\n",
    "from sklearn.ensemble import RandomForestRegressor\n",
    "\n",
    "\n",
    "xtrain_inner, xval_inner, ytrain_inner, yval_inner = train_test_split(xtrain,ytrain,test_size=0.25, random_state=42)\n",
    "\n",
    "xtrain_inner.shape, xval_inner.shape, ytrain_inner.shape, yval_inner.shape"
   ]
  },
  {
   "cell_type": "markdown",
   "id": "c4b42d76",
   "metadata": {},
   "source": [
    "### RandomForest Regression"
   ]
  },
  {
   "cell_type": "markdown",
   "id": "acdf73a0",
   "metadata": {},
   "source": [
    "We will do a gridsearch on some hyper-parameters of Random Forest. This can take a lot of time.\n",
    "Once we have the best model, we will evaluate that on the validation set."
   ]
  },
  {
   "cell_type": "code",
   "execution_count": 38,
   "id": "03181713",
   "metadata": {},
   "outputs": [],
   "source": [
    "param_vals = {'max_depth': [5,10,15,20], 'n_estimators': [50,100, 200]\n",
    "              }\n",
    "\n",
    "model= RandomForestRegressor()\n",
    "rf= GridSearchCV(estimator=model, \n",
    "                 param_grid=param_vals,scoring='neg_mean_squared_error',\n",
    "                refit= True,\n",
    "                cv=5,\n",
    "                n_jobs=-1)"
   ]
  },
  {
   "cell_type": "code",
   "execution_count": 39,
   "id": "d7232132",
   "metadata": {},
   "outputs": [
    {
     "data": {
      "text/html": [
       "<style>#sk-container-id-1 {color: black;background-color: white;}#sk-container-id-1 pre{padding: 0;}#sk-container-id-1 div.sk-toggleable {background-color: white;}#sk-container-id-1 label.sk-toggleable__label {cursor: pointer;display: block;width: 100%;margin-bottom: 0;padding: 0.3em;box-sizing: border-box;text-align: center;}#sk-container-id-1 label.sk-toggleable__label-arrow:before {content: \"▸\";float: left;margin-right: 0.25em;color: #696969;}#sk-container-id-1 label.sk-toggleable__label-arrow:hover:before {color: black;}#sk-container-id-1 div.sk-estimator:hover label.sk-toggleable__label-arrow:before {color: black;}#sk-container-id-1 div.sk-toggleable__content {max-height: 0;max-width: 0;overflow: hidden;text-align: left;background-color: #f0f8ff;}#sk-container-id-1 div.sk-toggleable__content pre {margin: 0.2em;color: black;border-radius: 0.25em;background-color: #f0f8ff;}#sk-container-id-1 input.sk-toggleable__control:checked~div.sk-toggleable__content {max-height: 200px;max-width: 100%;overflow: auto;}#sk-container-id-1 input.sk-toggleable__control:checked~label.sk-toggleable__label-arrow:before {content: \"▾\";}#sk-container-id-1 div.sk-estimator input.sk-toggleable__control:checked~label.sk-toggleable__label {background-color: #d4ebff;}#sk-container-id-1 div.sk-label input.sk-toggleable__control:checked~label.sk-toggleable__label {background-color: #d4ebff;}#sk-container-id-1 input.sk-hidden--visually {border: 0;clip: rect(1px 1px 1px 1px);clip: rect(1px, 1px, 1px, 1px);height: 1px;margin: -1px;overflow: hidden;padding: 0;position: absolute;width: 1px;}#sk-container-id-1 div.sk-estimator {font-family: monospace;background-color: #f0f8ff;border: 1px dotted black;border-radius: 0.25em;box-sizing: border-box;margin-bottom: 0.5em;}#sk-container-id-1 div.sk-estimator:hover {background-color: #d4ebff;}#sk-container-id-1 div.sk-parallel-item::after {content: \"\";width: 100%;border-bottom: 1px solid gray;flex-grow: 1;}#sk-container-id-1 div.sk-label:hover label.sk-toggleable__label {background-color: #d4ebff;}#sk-container-id-1 div.sk-serial::before {content: \"\";position: absolute;border-left: 1px solid gray;box-sizing: border-box;top: 0;bottom: 0;left: 50%;z-index: 0;}#sk-container-id-1 div.sk-serial {display: flex;flex-direction: column;align-items: center;background-color: white;padding-right: 0.2em;padding-left: 0.2em;position: relative;}#sk-container-id-1 div.sk-item {position: relative;z-index: 1;}#sk-container-id-1 div.sk-parallel {display: flex;align-items: stretch;justify-content: center;background-color: white;position: relative;}#sk-container-id-1 div.sk-item::before, #sk-container-id-1 div.sk-parallel-item::before {content: \"\";position: absolute;border-left: 1px solid gray;box-sizing: border-box;top: 0;bottom: 0;left: 50%;z-index: -1;}#sk-container-id-1 div.sk-parallel-item {display: flex;flex-direction: column;z-index: 1;position: relative;background-color: white;}#sk-container-id-1 div.sk-parallel-item:first-child::after {align-self: flex-end;width: 50%;}#sk-container-id-1 div.sk-parallel-item:last-child::after {align-self: flex-start;width: 50%;}#sk-container-id-1 div.sk-parallel-item:only-child::after {width: 0;}#sk-container-id-1 div.sk-dashed-wrapped {border: 1px dashed gray;margin: 0 0.4em 0.5em 0.4em;box-sizing: border-box;padding-bottom: 0.4em;background-color: white;}#sk-container-id-1 div.sk-label label {font-family: monospace;font-weight: bold;display: inline-block;line-height: 1.2em;}#sk-container-id-1 div.sk-label-container {text-align: center;}#sk-container-id-1 div.sk-container {/* jupyter's `normalize.less` sets `[hidden] { display: none; }` but bootstrap.min.css set `[hidden] { display: none !important; }` so we also need the `!important` here to be able to override the default hidden behavior on the sphinx rendered scikit-learn.org. See: https://github.com/scikit-learn/scikit-learn/issues/21755 */display: inline-block !important;position: relative;}#sk-container-id-1 div.sk-text-repr-fallback {display: none;}</style><div id=\"sk-container-id-1\" class=\"sk-top-container\"><div class=\"sk-text-repr-fallback\"><pre>GridSearchCV(cv=5, estimator=RandomForestRegressor(), n_jobs=-1,\n",
       "             param_grid={&#x27;max_depth&#x27;: [5, 10, 15, 20],\n",
       "                         &#x27;n_estimators&#x27;: [50, 100, 200]},\n",
       "             scoring=&#x27;neg_mean_squared_error&#x27;)</pre><b>In a Jupyter environment, please rerun this cell to show the HTML representation or trust the notebook. <br />On GitHub, the HTML representation is unable to render, please try loading this page with nbviewer.org.</b></div><div class=\"sk-container\" hidden><div class=\"sk-item sk-dashed-wrapped\"><div class=\"sk-label-container\"><div class=\"sk-label sk-toggleable\"><input class=\"sk-toggleable__control sk-hidden--visually\" id=\"sk-estimator-id-1\" type=\"checkbox\" ><label for=\"sk-estimator-id-1\" class=\"sk-toggleable__label sk-toggleable__label-arrow\">GridSearchCV</label><div class=\"sk-toggleable__content\"><pre>GridSearchCV(cv=5, estimator=RandomForestRegressor(), n_jobs=-1,\n",
       "             param_grid={&#x27;max_depth&#x27;: [5, 10, 15, 20],\n",
       "                         &#x27;n_estimators&#x27;: [50, 100, 200]},\n",
       "             scoring=&#x27;neg_mean_squared_error&#x27;)</pre></div></div></div><div class=\"sk-parallel\"><div class=\"sk-parallel-item\"><div class=\"sk-item\"><div class=\"sk-label-container\"><div class=\"sk-label sk-toggleable\"><input class=\"sk-toggleable__control sk-hidden--visually\" id=\"sk-estimator-id-2\" type=\"checkbox\" ><label for=\"sk-estimator-id-2\" class=\"sk-toggleable__label sk-toggleable__label-arrow\">estimator: RandomForestRegressor</label><div class=\"sk-toggleable__content\"><pre>RandomForestRegressor()</pre></div></div></div><div class=\"sk-serial\"><div class=\"sk-item\"><div class=\"sk-estimator sk-toggleable\"><input class=\"sk-toggleable__control sk-hidden--visually\" id=\"sk-estimator-id-3\" type=\"checkbox\" ><label for=\"sk-estimator-id-3\" class=\"sk-toggleable__label sk-toggleable__label-arrow\">RandomForestRegressor</label><div class=\"sk-toggleable__content\"><pre>RandomForestRegressor()</pre></div></div></div></div></div></div></div></div></div></div>"
      ],
      "text/plain": [
       "GridSearchCV(cv=5, estimator=RandomForestRegressor(), n_jobs=-1,\n",
       "             param_grid={'max_depth': [5, 10, 15, 20],\n",
       "                         'n_estimators': [50, 100, 200]},\n",
       "             scoring='neg_mean_squared_error')"
      ]
     },
     "execution_count": 39,
     "metadata": {},
     "output_type": "execute_result"
    }
   ],
   "source": [
    "rf.fit(xtrain_inner,ytrain_inner)"
   ]
  },
  {
   "cell_type": "code",
   "execution_count": 46,
   "id": "b01936fd",
   "metadata": {},
   "outputs": [
    {
     "data": {
      "text/html": [
       "<style>#sk-container-id-4 {color: black;background-color: white;}#sk-container-id-4 pre{padding: 0;}#sk-container-id-4 div.sk-toggleable {background-color: white;}#sk-container-id-4 label.sk-toggleable__label {cursor: pointer;display: block;width: 100%;margin-bottom: 0;padding: 0.3em;box-sizing: border-box;text-align: center;}#sk-container-id-4 label.sk-toggleable__label-arrow:before {content: \"▸\";float: left;margin-right: 0.25em;color: #696969;}#sk-container-id-4 label.sk-toggleable__label-arrow:hover:before {color: black;}#sk-container-id-4 div.sk-estimator:hover label.sk-toggleable__label-arrow:before {color: black;}#sk-container-id-4 div.sk-toggleable__content {max-height: 0;max-width: 0;overflow: hidden;text-align: left;background-color: #f0f8ff;}#sk-container-id-4 div.sk-toggleable__content pre {margin: 0.2em;color: black;border-radius: 0.25em;background-color: #f0f8ff;}#sk-container-id-4 input.sk-toggleable__control:checked~div.sk-toggleable__content {max-height: 200px;max-width: 100%;overflow: auto;}#sk-container-id-4 input.sk-toggleable__control:checked~label.sk-toggleable__label-arrow:before {content: \"▾\";}#sk-container-id-4 div.sk-estimator input.sk-toggleable__control:checked~label.sk-toggleable__label {background-color: #d4ebff;}#sk-container-id-4 div.sk-label input.sk-toggleable__control:checked~label.sk-toggleable__label {background-color: #d4ebff;}#sk-container-id-4 input.sk-hidden--visually {border: 0;clip: rect(1px 1px 1px 1px);clip: rect(1px, 1px, 1px, 1px);height: 1px;margin: -1px;overflow: hidden;padding: 0;position: absolute;width: 1px;}#sk-container-id-4 div.sk-estimator {font-family: monospace;background-color: #f0f8ff;border: 1px dotted black;border-radius: 0.25em;box-sizing: border-box;margin-bottom: 0.5em;}#sk-container-id-4 div.sk-estimator:hover {background-color: #d4ebff;}#sk-container-id-4 div.sk-parallel-item::after {content: \"\";width: 100%;border-bottom: 1px solid gray;flex-grow: 1;}#sk-container-id-4 div.sk-label:hover label.sk-toggleable__label {background-color: #d4ebff;}#sk-container-id-4 div.sk-serial::before {content: \"\";position: absolute;border-left: 1px solid gray;box-sizing: border-box;top: 0;bottom: 0;left: 50%;z-index: 0;}#sk-container-id-4 div.sk-serial {display: flex;flex-direction: column;align-items: center;background-color: white;padding-right: 0.2em;padding-left: 0.2em;position: relative;}#sk-container-id-4 div.sk-item {position: relative;z-index: 1;}#sk-container-id-4 div.sk-parallel {display: flex;align-items: stretch;justify-content: center;background-color: white;position: relative;}#sk-container-id-4 div.sk-item::before, #sk-container-id-4 div.sk-parallel-item::before {content: \"\";position: absolute;border-left: 1px solid gray;box-sizing: border-box;top: 0;bottom: 0;left: 50%;z-index: -1;}#sk-container-id-4 div.sk-parallel-item {display: flex;flex-direction: column;z-index: 1;position: relative;background-color: white;}#sk-container-id-4 div.sk-parallel-item:first-child::after {align-self: flex-end;width: 50%;}#sk-container-id-4 div.sk-parallel-item:last-child::after {align-self: flex-start;width: 50%;}#sk-container-id-4 div.sk-parallel-item:only-child::after {width: 0;}#sk-container-id-4 div.sk-dashed-wrapped {border: 1px dashed gray;margin: 0 0.4em 0.5em 0.4em;box-sizing: border-box;padding-bottom: 0.4em;background-color: white;}#sk-container-id-4 div.sk-label label {font-family: monospace;font-weight: bold;display: inline-block;line-height: 1.2em;}#sk-container-id-4 div.sk-label-container {text-align: center;}#sk-container-id-4 div.sk-container {/* jupyter's `normalize.less` sets `[hidden] { display: none; }` but bootstrap.min.css set `[hidden] { display: none !important; }` so we also need the `!important` here to be able to override the default hidden behavior on the sphinx rendered scikit-learn.org. See: https://github.com/scikit-learn/scikit-learn/issues/21755 */display: inline-block !important;position: relative;}#sk-container-id-4 div.sk-text-repr-fallback {display: none;}</style><div id=\"sk-container-id-4\" class=\"sk-top-container\"><div class=\"sk-text-repr-fallback\"><pre>RandomForestRegressor(max_depth=20, n_estimators=200)</pre><b>In a Jupyter environment, please rerun this cell to show the HTML representation or trust the notebook. <br />On GitHub, the HTML representation is unable to render, please try loading this page with nbviewer.org.</b></div><div class=\"sk-container\" hidden><div class=\"sk-item\"><div class=\"sk-estimator sk-toggleable\"><input class=\"sk-toggleable__control sk-hidden--visually\" id=\"sk-estimator-id-6\" type=\"checkbox\" checked><label for=\"sk-estimator-id-6\" class=\"sk-toggleable__label sk-toggleable__label-arrow\">RandomForestRegressor</label><div class=\"sk-toggleable__content\"><pre>RandomForestRegressor(max_depth=20, n_estimators=200)</pre></div></div></div></div></div>"
      ],
      "text/plain": [
       "RandomForestRegressor(max_depth=20, n_estimators=200)"
      ]
     },
     "execution_count": 46,
     "metadata": {},
     "output_type": "execute_result"
    }
   ],
   "source": [
    "best_rf= rf.best_estimator_\n",
    "best_rf"
   ]
  },
  {
   "cell_type": "markdown",
   "id": "a3f01926",
   "metadata": {},
   "source": [
    "From the given hyper-parameters, the regressor with max_depth= 20 and n_estimators=200 has the best cross validation accuracy from gridsearchCV.\n",
    "\n",
    "We will not use this best estimator to make predictions on hold-out validation set."
   ]
  },
  {
   "cell_type": "code",
   "execution_count": 48,
   "id": "6d96536a",
   "metadata": {},
   "outputs": [
    {
     "data": {
      "text/plain": [
       "268.8997970327196"
      ]
     },
     "execution_count": 48,
     "metadata": {},
     "output_type": "execute_result"
    }
   ],
   "source": [
    "pred= best_rf.predict(xval_inner)\n",
    "np.sqrt(mean_squared_error(yval_inner,pred))"
   ]
  },
  {
   "cell_type": "markdown",
   "id": "5be489e7",
   "metadata": {},
   "source": [
    "We have a RMSE of 268 seconds. This will be the score for random forest."
   ]
  },
  {
   "cell_type": "code",
   "execution_count": 49,
   "id": "ef4ab423",
   "metadata": {},
   "outputs": [
    {
     "data": {
      "text/plain": [
       "0.1456642524076152"
      ]
     },
     "execution_count": 49,
     "metadata": {},
     "output_type": "execute_result"
    }
   ],
   "source": [
    "from sklearn.metrics import mean_squared_log_error\n",
    "mean_squared_log_error(yval_inner,pred)"
   ]
  },
  {
   "cell_type": "markdown",
   "id": "48ea06da",
   "metadata": {},
   "source": [
    "### XGBRegressor"
   ]
  },
  {
   "cell_type": "markdown",
   "id": "34b8c649",
   "metadata": {},
   "source": [
    "We will follow the same steps as in Randomforest: Do gridsearchCV and get best estimator and then benchmark the RMSE against what we got for the best random forest model."
   ]
  },
  {
   "cell_type": "code",
   "execution_count": 19,
   "id": "3b233b90",
   "metadata": {},
   "outputs": [],
   "source": [
    "from xgboost.sklearn import XGBRegressor\n",
    "model = XGBRegressor()"
   ]
  },
  {
   "cell_type": "code",
   "execution_count": 20,
   "id": "de661312",
   "metadata": {},
   "outputs": [],
   "source": [
    "param_vals = {\n",
    "              'learning_rate': [0.01,.1, 0.2], #so called `eta` value\n",
    "              'max_depth': [5, 8,10],\n",
    "              'objective': ['reg:gamma'],\n",
    "              'colsample_bytree': [0.5,0.7],\n",
    "              'min_child_weight': [4,8],\n",
    "              'nthread': [-1],\n",
    "              'n_estimators': [100,250,500],\n",
    "              'eval_metric': ['rmse']\n",
    "             }\n",
    "xgb=GridSearchCV(estimator=model, \n",
    "                 param_grid=param_vals,scoring='neg_mean_squared_error',\n",
    "                refit= True,\n",
    "                cv=2,\n",
    "                n_jobs=-1)"
   ]
  },
  {
   "cell_type": "code",
   "execution_count": 21,
   "id": "3e68c90b",
   "metadata": {},
   "outputs": [
    {
     "data": {
      "text/html": [
       "<style>#sk-container-id-1 {color: black;background-color: white;}#sk-container-id-1 pre{padding: 0;}#sk-container-id-1 div.sk-toggleable {background-color: white;}#sk-container-id-1 label.sk-toggleable__label {cursor: pointer;display: block;width: 100%;margin-bottom: 0;padding: 0.3em;box-sizing: border-box;text-align: center;}#sk-container-id-1 label.sk-toggleable__label-arrow:before {content: \"▸\";float: left;margin-right: 0.25em;color: #696969;}#sk-container-id-1 label.sk-toggleable__label-arrow:hover:before {color: black;}#sk-container-id-1 div.sk-estimator:hover label.sk-toggleable__label-arrow:before {color: black;}#sk-container-id-1 div.sk-toggleable__content {max-height: 0;max-width: 0;overflow: hidden;text-align: left;background-color: #f0f8ff;}#sk-container-id-1 div.sk-toggleable__content pre {margin: 0.2em;color: black;border-radius: 0.25em;background-color: #f0f8ff;}#sk-container-id-1 input.sk-toggleable__control:checked~div.sk-toggleable__content {max-height: 200px;max-width: 100%;overflow: auto;}#sk-container-id-1 input.sk-toggleable__control:checked~label.sk-toggleable__label-arrow:before {content: \"▾\";}#sk-container-id-1 div.sk-estimator input.sk-toggleable__control:checked~label.sk-toggleable__label {background-color: #d4ebff;}#sk-container-id-1 div.sk-label input.sk-toggleable__control:checked~label.sk-toggleable__label {background-color: #d4ebff;}#sk-container-id-1 input.sk-hidden--visually {border: 0;clip: rect(1px 1px 1px 1px);clip: rect(1px, 1px, 1px, 1px);height: 1px;margin: -1px;overflow: hidden;padding: 0;position: absolute;width: 1px;}#sk-container-id-1 div.sk-estimator {font-family: monospace;background-color: #f0f8ff;border: 1px dotted black;border-radius: 0.25em;box-sizing: border-box;margin-bottom: 0.5em;}#sk-container-id-1 div.sk-estimator:hover {background-color: #d4ebff;}#sk-container-id-1 div.sk-parallel-item::after {content: \"\";width: 100%;border-bottom: 1px solid gray;flex-grow: 1;}#sk-container-id-1 div.sk-label:hover label.sk-toggleable__label {background-color: #d4ebff;}#sk-container-id-1 div.sk-serial::before {content: \"\";position: absolute;border-left: 1px solid gray;box-sizing: border-box;top: 0;bottom: 0;left: 50%;z-index: 0;}#sk-container-id-1 div.sk-serial {display: flex;flex-direction: column;align-items: center;background-color: white;padding-right: 0.2em;padding-left: 0.2em;position: relative;}#sk-container-id-1 div.sk-item {position: relative;z-index: 1;}#sk-container-id-1 div.sk-parallel {display: flex;align-items: stretch;justify-content: center;background-color: white;position: relative;}#sk-container-id-1 div.sk-item::before, #sk-container-id-1 div.sk-parallel-item::before {content: \"\";position: absolute;border-left: 1px solid gray;box-sizing: border-box;top: 0;bottom: 0;left: 50%;z-index: -1;}#sk-container-id-1 div.sk-parallel-item {display: flex;flex-direction: column;z-index: 1;position: relative;background-color: white;}#sk-container-id-1 div.sk-parallel-item:first-child::after {align-self: flex-end;width: 50%;}#sk-container-id-1 div.sk-parallel-item:last-child::after {align-self: flex-start;width: 50%;}#sk-container-id-1 div.sk-parallel-item:only-child::after {width: 0;}#sk-container-id-1 div.sk-dashed-wrapped {border: 1px dashed gray;margin: 0 0.4em 0.5em 0.4em;box-sizing: border-box;padding-bottom: 0.4em;background-color: white;}#sk-container-id-1 div.sk-label label {font-family: monospace;font-weight: bold;display: inline-block;line-height: 1.2em;}#sk-container-id-1 div.sk-label-container {text-align: center;}#sk-container-id-1 div.sk-container {/* jupyter's `normalize.less` sets `[hidden] { display: none; }` but bootstrap.min.css set `[hidden] { display: none !important; }` so we also need the `!important` here to be able to override the default hidden behavior on the sphinx rendered scikit-learn.org. See: https://github.com/scikit-learn/scikit-learn/issues/21755 */display: inline-block !important;position: relative;}#sk-container-id-1 div.sk-text-repr-fallback {display: none;}</style><div id=\"sk-container-id-1\" class=\"sk-top-container\"><div class=\"sk-text-repr-fallback\"><pre>GridSearchCV(cv=2,\n",
       "             estimator=XGBRegressor(base_score=None, booster=None,\n",
       "                                    callbacks=None, colsample_bylevel=None,\n",
       "                                    colsample_bynode=None,\n",
       "                                    colsample_bytree=None, device=None,\n",
       "                                    early_stopping_rounds=None,\n",
       "                                    enable_categorical=False, eval_metric=None,\n",
       "                                    feature_types=None, gamma=None,\n",
       "                                    grow_policy=None, importance_type=None,\n",
       "                                    interaction_constraints=None,\n",
       "                                    learning_rate=None, m...\n",
       "                                    multi_strategy=None, n_estimators=None,\n",
       "                                    n_jobs=None, num_parallel_tree=None,\n",
       "                                    random_state=None, ...),\n",
       "             n_jobs=-1,\n",
       "             param_grid={&#x27;colsample_bytree&#x27;: [0.5, 0.7],\n",
       "                         &#x27;eval_metric&#x27;: [&#x27;rmse&#x27;],\n",
       "                         &#x27;learning_rate&#x27;: [0.01, 0.1, 0.2],\n",
       "                         &#x27;max_depth&#x27;: [5, 8, 10], &#x27;min_child_weight&#x27;: [4, 8],\n",
       "                         &#x27;n_estimators&#x27;: [100, 250, 500], &#x27;nthread&#x27;: [-1],\n",
       "                         &#x27;objective&#x27;: [&#x27;reg:gamma&#x27;]},\n",
       "             scoring=&#x27;neg_mean_squared_error&#x27;)</pre><b>In a Jupyter environment, please rerun this cell to show the HTML representation or trust the notebook. <br />On GitHub, the HTML representation is unable to render, please try loading this page with nbviewer.org.</b></div><div class=\"sk-container\" hidden><div class=\"sk-item sk-dashed-wrapped\"><div class=\"sk-label-container\"><div class=\"sk-label sk-toggleable\"><input class=\"sk-toggleable__control sk-hidden--visually\" id=\"sk-estimator-id-1\" type=\"checkbox\" ><label for=\"sk-estimator-id-1\" class=\"sk-toggleable__label sk-toggleable__label-arrow\">GridSearchCV</label><div class=\"sk-toggleable__content\"><pre>GridSearchCV(cv=2,\n",
       "             estimator=XGBRegressor(base_score=None, booster=None,\n",
       "                                    callbacks=None, colsample_bylevel=None,\n",
       "                                    colsample_bynode=None,\n",
       "                                    colsample_bytree=None, device=None,\n",
       "                                    early_stopping_rounds=None,\n",
       "                                    enable_categorical=False, eval_metric=None,\n",
       "                                    feature_types=None, gamma=None,\n",
       "                                    grow_policy=None, importance_type=None,\n",
       "                                    interaction_constraints=None,\n",
       "                                    learning_rate=None, m...\n",
       "                                    multi_strategy=None, n_estimators=None,\n",
       "                                    n_jobs=None, num_parallel_tree=None,\n",
       "                                    random_state=None, ...),\n",
       "             n_jobs=-1,\n",
       "             param_grid={&#x27;colsample_bytree&#x27;: [0.5, 0.7],\n",
       "                         &#x27;eval_metric&#x27;: [&#x27;rmse&#x27;],\n",
       "                         &#x27;learning_rate&#x27;: [0.01, 0.1, 0.2],\n",
       "                         &#x27;max_depth&#x27;: [5, 8, 10], &#x27;min_child_weight&#x27;: [4, 8],\n",
       "                         &#x27;n_estimators&#x27;: [100, 250, 500], &#x27;nthread&#x27;: [-1],\n",
       "                         &#x27;objective&#x27;: [&#x27;reg:gamma&#x27;]},\n",
       "             scoring=&#x27;neg_mean_squared_error&#x27;)</pre></div></div></div><div class=\"sk-parallel\"><div class=\"sk-parallel-item\"><div class=\"sk-item\"><div class=\"sk-label-container\"><div class=\"sk-label sk-toggleable\"><input class=\"sk-toggleable__control sk-hidden--visually\" id=\"sk-estimator-id-2\" type=\"checkbox\" ><label for=\"sk-estimator-id-2\" class=\"sk-toggleable__label sk-toggleable__label-arrow\">estimator: XGBRegressor</label><div class=\"sk-toggleable__content\"><pre>XGBRegressor(base_score=None, booster=None, callbacks=None,\n",
       "             colsample_bylevel=None, colsample_bynode=None,\n",
       "             colsample_bytree=None, device=None, early_stopping_rounds=None,\n",
       "             enable_categorical=False, eval_metric=None, feature_types=None,\n",
       "             gamma=None, grow_policy=None, importance_type=None,\n",
       "             interaction_constraints=None, learning_rate=None, max_bin=None,\n",
       "             max_cat_threshold=None, max_cat_to_onehot=None,\n",
       "             max_delta_step=None, max_depth=None, max_leaves=None,\n",
       "             min_child_weight=None, missing=nan, monotone_constraints=None,\n",
       "             multi_strategy=None, n_estimators=None, n_jobs=None,\n",
       "             num_parallel_tree=None, random_state=None, ...)</pre></div></div></div><div class=\"sk-serial\"><div class=\"sk-item\"><div class=\"sk-estimator sk-toggleable\"><input class=\"sk-toggleable__control sk-hidden--visually\" id=\"sk-estimator-id-3\" type=\"checkbox\" ><label for=\"sk-estimator-id-3\" class=\"sk-toggleable__label sk-toggleable__label-arrow\">XGBRegressor</label><div class=\"sk-toggleable__content\"><pre>XGBRegressor(base_score=None, booster=None, callbacks=None,\n",
       "             colsample_bylevel=None, colsample_bynode=None,\n",
       "             colsample_bytree=None, device=None, early_stopping_rounds=None,\n",
       "             enable_categorical=False, eval_metric=None, feature_types=None,\n",
       "             gamma=None, grow_policy=None, importance_type=None,\n",
       "             interaction_constraints=None, learning_rate=None, max_bin=None,\n",
       "             max_cat_threshold=None, max_cat_to_onehot=None,\n",
       "             max_delta_step=None, max_depth=None, max_leaves=None,\n",
       "             min_child_weight=None, missing=nan, monotone_constraints=None,\n",
       "             multi_strategy=None, n_estimators=None, n_jobs=None,\n",
       "             num_parallel_tree=None, random_state=None, ...)</pre></div></div></div></div></div></div></div></div></div></div>"
      ],
      "text/plain": [
       "GridSearchCV(cv=2,\n",
       "             estimator=XGBRegressor(base_score=None, booster=None,\n",
       "                                    callbacks=None, colsample_bylevel=None,\n",
       "                                    colsample_bynode=None,\n",
       "                                    colsample_bytree=None, device=None,\n",
       "                                    early_stopping_rounds=None,\n",
       "                                    enable_categorical=False, eval_metric=None,\n",
       "                                    feature_types=None, gamma=None,\n",
       "                                    grow_policy=None, importance_type=None,\n",
       "                                    interaction_constraints=None,\n",
       "                                    learning_rate=None, m...\n",
       "                                    multi_strategy=None, n_estimators=None,\n",
       "                                    n_jobs=None, num_parallel_tree=None,\n",
       "                                    random_state=None, ...),\n",
       "             n_jobs=-1,\n",
       "             param_grid={'colsample_bytree': [0.5, 0.7],\n",
       "                         'eval_metric': ['rmse'],\n",
       "                         'learning_rate': [0.01, 0.1, 0.2],\n",
       "                         'max_depth': [5, 8, 10], 'min_child_weight': [4, 8],\n",
       "                         'n_estimators': [100, 250, 500], 'nthread': [-1],\n",
       "                         'objective': ['reg:gamma']},\n",
       "             scoring='neg_mean_squared_error')"
      ]
     },
     "execution_count": 21,
     "metadata": {},
     "output_type": "execute_result"
    }
   ],
   "source": [
    "xgb.fit(xtrain_inner,ytrain_inner)"
   ]
  },
  {
   "cell_type": "code",
   "execution_count": 25,
   "id": "9604c910",
   "metadata": {},
   "outputs": [
    {
     "data": {
      "text/html": [
       "<style>#sk-container-id-3 {color: black;background-color: white;}#sk-container-id-3 pre{padding: 0;}#sk-container-id-3 div.sk-toggleable {background-color: white;}#sk-container-id-3 label.sk-toggleable__label {cursor: pointer;display: block;width: 100%;margin-bottom: 0;padding: 0.3em;box-sizing: border-box;text-align: center;}#sk-container-id-3 label.sk-toggleable__label-arrow:before {content: \"▸\";float: left;margin-right: 0.25em;color: #696969;}#sk-container-id-3 label.sk-toggleable__label-arrow:hover:before {color: black;}#sk-container-id-3 div.sk-estimator:hover label.sk-toggleable__label-arrow:before {color: black;}#sk-container-id-3 div.sk-toggleable__content {max-height: 0;max-width: 0;overflow: hidden;text-align: left;background-color: #f0f8ff;}#sk-container-id-3 div.sk-toggleable__content pre {margin: 0.2em;color: black;border-radius: 0.25em;background-color: #f0f8ff;}#sk-container-id-3 input.sk-toggleable__control:checked~div.sk-toggleable__content {max-height: 200px;max-width: 100%;overflow: auto;}#sk-container-id-3 input.sk-toggleable__control:checked~label.sk-toggleable__label-arrow:before {content: \"▾\";}#sk-container-id-3 div.sk-estimator input.sk-toggleable__control:checked~label.sk-toggleable__label {background-color: #d4ebff;}#sk-container-id-3 div.sk-label input.sk-toggleable__control:checked~label.sk-toggleable__label {background-color: #d4ebff;}#sk-container-id-3 input.sk-hidden--visually {border: 0;clip: rect(1px 1px 1px 1px);clip: rect(1px, 1px, 1px, 1px);height: 1px;margin: -1px;overflow: hidden;padding: 0;position: absolute;width: 1px;}#sk-container-id-3 div.sk-estimator {font-family: monospace;background-color: #f0f8ff;border: 1px dotted black;border-radius: 0.25em;box-sizing: border-box;margin-bottom: 0.5em;}#sk-container-id-3 div.sk-estimator:hover {background-color: #d4ebff;}#sk-container-id-3 div.sk-parallel-item::after {content: \"\";width: 100%;border-bottom: 1px solid gray;flex-grow: 1;}#sk-container-id-3 div.sk-label:hover label.sk-toggleable__label {background-color: #d4ebff;}#sk-container-id-3 div.sk-serial::before {content: \"\";position: absolute;border-left: 1px solid gray;box-sizing: border-box;top: 0;bottom: 0;left: 50%;z-index: 0;}#sk-container-id-3 div.sk-serial {display: flex;flex-direction: column;align-items: center;background-color: white;padding-right: 0.2em;padding-left: 0.2em;position: relative;}#sk-container-id-3 div.sk-item {position: relative;z-index: 1;}#sk-container-id-3 div.sk-parallel {display: flex;align-items: stretch;justify-content: center;background-color: white;position: relative;}#sk-container-id-3 div.sk-item::before, #sk-container-id-3 div.sk-parallel-item::before {content: \"\";position: absolute;border-left: 1px solid gray;box-sizing: border-box;top: 0;bottom: 0;left: 50%;z-index: -1;}#sk-container-id-3 div.sk-parallel-item {display: flex;flex-direction: column;z-index: 1;position: relative;background-color: white;}#sk-container-id-3 div.sk-parallel-item:first-child::after {align-self: flex-end;width: 50%;}#sk-container-id-3 div.sk-parallel-item:last-child::after {align-self: flex-start;width: 50%;}#sk-container-id-3 div.sk-parallel-item:only-child::after {width: 0;}#sk-container-id-3 div.sk-dashed-wrapped {border: 1px dashed gray;margin: 0 0.4em 0.5em 0.4em;box-sizing: border-box;padding-bottom: 0.4em;background-color: white;}#sk-container-id-3 div.sk-label label {font-family: monospace;font-weight: bold;display: inline-block;line-height: 1.2em;}#sk-container-id-3 div.sk-label-container {text-align: center;}#sk-container-id-3 div.sk-container {/* jupyter's `normalize.less` sets `[hidden] { display: none; }` but bootstrap.min.css set `[hidden] { display: none !important; }` so we also need the `!important` here to be able to override the default hidden behavior on the sphinx rendered scikit-learn.org. See: https://github.com/scikit-learn/scikit-learn/issues/21755 */display: inline-block !important;position: relative;}#sk-container-id-3 div.sk-text-repr-fallback {display: none;}</style><div id=\"sk-container-id-3\" class=\"sk-top-container\"><div class=\"sk-text-repr-fallback\"><pre>XGBRegressor(base_score=None, booster=None, callbacks=None,\n",
       "             colsample_bylevel=None, colsample_bynode=None,\n",
       "             colsample_bytree=0.7, device=None, early_stopping_rounds=None,\n",
       "             enable_categorical=False, eval_metric=&#x27;rmse&#x27;, feature_types=None,\n",
       "             gamma=None, grow_policy=None, importance_type=None,\n",
       "             interaction_constraints=None, learning_rate=0.1, max_bin=None,\n",
       "             max_cat_threshold=None, max_cat_to_onehot=None,\n",
       "             max_delta_step=None, max_depth=8, max_leaves=None,\n",
       "             min_child_weight=8, missing=nan, monotone_constraints=None,\n",
       "             multi_strategy=None, n_estimators=500, n_jobs=None, nthread=-1,\n",
       "             num_parallel_tree=None, ...)</pre><b>In a Jupyter environment, please rerun this cell to show the HTML representation or trust the notebook. <br />On GitHub, the HTML representation is unable to render, please try loading this page with nbviewer.org.</b></div><div class=\"sk-container\" hidden><div class=\"sk-item\"><div class=\"sk-estimator sk-toggleable\"><input class=\"sk-toggleable__control sk-hidden--visually\" id=\"sk-estimator-id-5\" type=\"checkbox\" checked><label for=\"sk-estimator-id-5\" class=\"sk-toggleable__label sk-toggleable__label-arrow\">XGBRegressor</label><div class=\"sk-toggleable__content\"><pre>XGBRegressor(base_score=None, booster=None, callbacks=None,\n",
       "             colsample_bylevel=None, colsample_bynode=None,\n",
       "             colsample_bytree=0.7, device=None, early_stopping_rounds=None,\n",
       "             enable_categorical=False, eval_metric=&#x27;rmse&#x27;, feature_types=None,\n",
       "             gamma=None, grow_policy=None, importance_type=None,\n",
       "             interaction_constraints=None, learning_rate=0.1, max_bin=None,\n",
       "             max_cat_threshold=None, max_cat_to_onehot=None,\n",
       "             max_delta_step=None, max_depth=8, max_leaves=None,\n",
       "             min_child_weight=8, missing=nan, monotone_constraints=None,\n",
       "             multi_strategy=None, n_estimators=500, n_jobs=None, nthread=-1,\n",
       "             num_parallel_tree=None, ...)</pre></div></div></div></div></div>"
      ],
      "text/plain": [
       "XGBRegressor(base_score=None, booster=None, callbacks=None,\n",
       "             colsample_bylevel=None, colsample_bynode=None,\n",
       "             colsample_bytree=0.7, device=None, early_stopping_rounds=None,\n",
       "             enable_categorical=False, eval_metric='rmse', feature_types=None,\n",
       "             gamma=None, grow_policy=None, importance_type=None,\n",
       "             interaction_constraints=None, learning_rate=0.1, max_bin=None,\n",
       "             max_cat_threshold=None, max_cat_to_onehot=None,\n",
       "             max_delta_step=None, max_depth=8, max_leaves=None,\n",
       "             min_child_weight=8, missing=nan, monotone_constraints=None,\n",
       "             multi_strategy=None, n_estimators=500, n_jobs=None, nthread=-1,\n",
       "             num_parallel_tree=None, ...)"
      ]
     },
     "execution_count": 25,
     "metadata": {},
     "output_type": "execute_result"
    }
   ],
   "source": [
    "best_xgb= xgb.best_estimator_\n",
    "best_xgb"
   ]
  },
  {
   "cell_type": "code",
   "execution_count": 26,
   "id": "75ec8417",
   "metadata": {},
   "outputs": [
    {
     "data": {
      "text/plain": [
       "254.38117746766648"
      ]
     },
     "execution_count": 26,
     "metadata": {},
     "output_type": "execute_result"
    }
   ],
   "source": [
    "pred= best_xgb.predict(xval_inner)\n",
    "np.sqrt(mean_squared_error(yval_inner,pred))"
   ]
  },
  {
   "cell_type": "code",
   "execution_count": 37,
   "id": "391dfeb9",
   "metadata": {},
   "outputs": [
    {
     "data": {
      "text/plain": [
       "0.12092771237391337"
      ]
     },
     "execution_count": 37,
     "metadata": {},
     "output_type": "execute_result"
    }
   ],
   "source": [
    "mean_squared_log_error(yval_inner,pred)"
   ]
  },
  {
   "cell_type": "markdown",
   "id": "9988e52f",
   "metadata": {},
   "source": [
    "We see that the validation score for the best XGBoost model is better. So we pick this model as our final model\n",
    "| Model | RMSE-validation | MSLE-validation |\n",
    "| --- | --- | --- |\n",
    "| Random Forest | 268 | 0.145|\n",
    "| **XGBoost** | **254** | **0.12**|\n",
    "\n",
    "We now train this on the entire training set."
   ]
  },
  {
   "cell_type": "code",
   "execution_count": 32,
   "id": "d4fa6a66",
   "metadata": {},
   "outputs": [],
   "source": [
    "\n",
    "final_model= best_xgb.fit(xtrain,ytrain)\n"
   ]
  },
  {
   "cell_type": "markdown",
   "id": "9de7381e",
   "metadata": {},
   "source": [
    "Now we can test this model on the test set that we had initially created."
   ]
  },
  {
   "cell_type": "code",
   "execution_count": 36,
   "id": "dfaa63a8",
   "metadata": {},
   "outputs": [
    {
     "name": "stdout",
     "output_type": "stream",
     "text": [
      "RMSE on the test set: 254.62\n",
      "MSLE on the test set: 0.12\n"
     ]
    }
   ],
   "source": [
    "test_pred= final_model.predict(xtest)\n",
    "rmse= np.sqrt(mean_squared_error(ytest,test_pred))\n",
    "msle= mean_squared_log_error(ytest,test_pred)\n",
    "\n",
    "print(f\"RMSE on the test set: {round(rmse,2)}\")\n",
    "print(f\"MSLE on the test set: {round(msle,2)}\")"
   ]
  },
  {
   "cell_type": "markdown",
   "id": "a31964a0",
   "metadata": {},
   "source": [
    "We see that the validation score for the best XGBoost model is better. So we pick this model as our final model\n",
    "| Model | RMSE | MSLE |\n",
    "| --- | --- | --- |\n",
    "| Validation set | 254.38 | 0.12|\n",
    "| **Test set** | **254.62** | **0.12**|\n",
    "\n",
    "We see that the validation and test set give similar results. This indicates our model is able to generalize quite well and there is no concern of over-fitting.\n",
    "\n",
    "This concludes the modelling."
   ]
  },
  {
   "cell_type": "code",
   "execution_count": null,
   "id": "3c98a163",
   "metadata": {},
   "outputs": [],
   "source": []
  }
 ],
 "metadata": {
  "kernelspec": {
   "display_name": "Python 3 (ipykernel)",
   "language": "python",
   "name": "python3"
  },
  "language_info": {
   "codemirror_mode": {
    "name": "ipython",
    "version": 3
   },
   "file_extension": ".py",
   "mimetype": "text/x-python",
   "name": "python",
   "nbconvert_exporter": "python",
   "pygments_lexer": "ipython3",
   "version": "3.11.4"
  }
 },
 "nbformat": 4,
 "nbformat_minor": 5
}
